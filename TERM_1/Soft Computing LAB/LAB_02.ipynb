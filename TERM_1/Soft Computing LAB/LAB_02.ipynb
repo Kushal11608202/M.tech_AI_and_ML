{
 "cells": [
  {
   "cell_type": "code",
   "execution_count": 1,
   "id": "f26ebb71",
   "metadata": {},
   "outputs": [],
   "source": [
    "# importing Python library\n",
    "import numpy as np\n",
    "# define Unit Step Function\n",
    "def unitStep(v):\n",
    "  if v >= 0:\n",
    "    return 1\n",
    "  else:\n",
    "    return 0"
   ]
  },
  {
   "cell_type": "code",
   "execution_count": 2,
   "id": "1f5d108f",
   "metadata": {},
   "outputs": [],
   "source": [
    "# design Perceptron Model\n",
    "def perceptronModel(x, w, b):\n",
    "  v = np.dot(w, x) + b\n",
    "  y = unitStep(v)\n",
    "  return y"
   ]
  },
  {
   "cell_type": "code",
   "execution_count": 3,
   "id": "0f7e7ef0",
   "metadata": {},
   "outputs": [],
   "source": [
    "def AND_logicFunction(x):\n",
    "  w = np.array([1,1])\n",
    "  b = -1.5\n",
    "  return perceptronModel(x, w, b)"
   ]
  },
  {
   "cell_type": "code",
   "execution_count": 4,
   "id": "29a9192b",
   "metadata": {},
   "outputs": [],
   "source": [
    "def OR_logicFunction(x):\n",
    "  w = np.array([1, 1])\n",
    "  b = -0.5\n",
    "  return perceptronModel(x, w, b)"
   ]
  },
  {
   "cell_type": "code",
   "execution_count": 5,
   "id": "9b80161f",
   "metadata": {},
   "outputs": [
    {
     "name": "stdout",
     "output_type": "stream",
     "text": [
      "AND(0, 0) = 0\n",
      "AND(0, 1) = 0\n",
      "AND(1, 0) = 0\n",
      "AND(1, 1) = 1\n"
     ]
    }
   ],
   "source": [
    "test1 = np.array([0, 0])\n",
    "test2 = np.array([0, 1])\n",
    "test3 = np.array([1, 0])\n",
    "test4 = np.array([1, 1])\n",
    "print(\"AND({}, {}) = {}\".format(0, 0, AND_logicFunction(test1)))\n",
    "print(\"AND({}, {}) = {}\".format(0, 1, AND_logicFunction(test2)))\n",
    "print(\"AND({}, {}) = {}\".format(1, 0, AND_logicFunction(test3)))\n",
    "print(\"AND({}, {}) = {}\".format(1, 1, AND_logicFunction(test4)))"
   ]
  },
  {
   "cell_type": "code",
   "execution_count": 17,
   "id": "6a94ab93",
   "metadata": {},
   "outputs": [
    {
     "name": "stdout",
     "output_type": "stream",
     "text": [
      "OR(0, 0) = 0.0\n",
      "OR(0, 1) = 1.0\n",
      "OR(1, 0) = 1.0\n",
      "OR(1, 1) = 1.0\n"
     ]
    }
   ],
   "source": [
    "test1 = np.array([0, 0])\n",
    "test2 = np.array([0, 1])\n",
    "test3 = np.array([1, 0])\n",
    "test4 = np.array([1, 1])\n",
    "print(\"OR({}, {}) = {}\".format(0, 0, OR_logicFunction(test1)))\n",
    "print(\"OR({}, {}) = {}\".format(0, 1, OR_logicFunction(test2)))\n",
    "print(\"OR({}, {}) = {}\".format(1, 0, OR_logicFunction(test3)))\n",
    "print(\"OR({}, {}) = {}\".format(1, 1, OR_logicFunction(test4)))"
   ]
  },
  {
   "cell_type": "code",
   "execution_count": 55,
   "id": "fac32bd9",
   "metadata": {},
   "outputs": [],
   "source": [
    "import numpy as np\n",
    "# sigmoid activation function\n",
    "def activationFunction(model, type =\"sigmoid\"):\n",
    "  return {\"sigmoid\": 1/(1 + np.exp(-model))}[type]"
   ]
  },
  {
   "cell_type": "code",
   "execution_count": 56,
   "id": "9b8bff45",
   "metadata": {},
   "outputs": [],
   "source": [
    "# designing perceptron model\n",
    "def perceptronModel(weights, inputs, bias):\n",
    "    model = np.add(np.dot(inputs, weights), bias)\n",
    "    logic = activationFunction(model, type =\"sigmoid\")\n",
    "    return np.round(logic)"
   ]
  },
  {
   "cell_type": "code",
   "execution_count": 57,
   "id": "f4c11d03",
   "metadata": {},
   "outputs": [],
   "source": [
    "# computation model\n",
    "def compute(data, logicGate, weights, bias):\n",
    "    weights = np.array(weights)\n",
    "    output = np.array([ perceptronModel(weights,datum, bias) for datum in data ])\n",
    "    return output"
   ]
  },
  {
   "cell_type": "code",
   "execution_count": 58,
   "id": "78a87294",
   "metadata": {},
   "outputs": [],
   "source": [
    "# Print Output\n",
    "def printOutput(dataset, name, data):\n",
    "   print(\"Logic Function: {}\".format(name.upper()))\n",
    "   print(\"X1\\tX2\\tX3\\tY\")\n",
    "   toPrint = [\"{1}\\t{2}\\t{3}\\t{0}\".format(output, *datas)for datas, output in zip(dataset, data)]\n",
    "   for i in toPrint:\n",
    "             print(i)"
   ]
  },
  {
   "cell_type": "code",
   "execution_count": 59,
   "id": "f3ffc77b",
   "metadata": {},
   "outputs": [],
   "source": [
    "#main function\n",
    "def main():\n",
    "    dataset = np.array([[0, 0, 0],[0, 0, 1],[0, 1, 0],[0, 1, 1],[1, 0, 0],[1, 0, 1],[1, 1, 0],[1, 1, 1]])"
   ]
  },
  {
   "cell_type": "code",
   "execution_count": 60,
   "id": "32b98bd3",
   "metadata": {},
   "outputs": [],
   "source": [
    "# Parameters of every Logic Gates\n",
    "# weight parameters: w1, w2, w3\n",
    "# bias parameter: b\n",
    "dataset = np.array([[0, 0, 0],[0, 0, 1],[0, 1, 0],[0, 1, 1],[1, 0, 0],[1, 0, 1],[1, 1, 0],[1, 1, 1]])"
   ]
  },
  {
   "cell_type": "code",
   "execution_count": 61,
   "id": "6155cbac",
   "metadata": {},
   "outputs": [
    {
     "name": "stdout",
     "output_type": "stream",
     "text": [
      "Logic Function: AND\n",
      "X1\tX2\tX3\tY\n",
      "0\t0\t0\t0.0\n",
      "0\t0\t1\t0.0\n",
      "0\t1\t0\t0.0\n",
      "0\t1\t1\t0.0\n",
      "1\t0\t0\t0.0\n",
      "1\t0\t1\t0.0\n",
      "1\t1\t0\t0.0\n",
      "1\t1\t1\t1.0\n",
      "Logic Function: OR\n",
      "X1\tX2\tX3\tY\n",
      "0\t0\t0\t0.0\n",
      "0\t0\t1\t1.0\n",
      "0\t1\t0\t1.0\n",
      "0\t1\t1\t1.0\n",
      "1\t0\t0\t1.0\n",
      "1\t0\t1\t1.0\n",
      "1\t1\t0\t1.0\n",
      "1\t1\t1\t1.0\n",
      "Logic Function: NAND\n",
      "X1\tX2\tX3\tY\n",
      "0\t0\t0\t1.0\n",
      "0\t0\t1\t1.0\n",
      "0\t1\t0\t1.0\n",
      "0\t1\t1\t1.0\n",
      "1\t0\t0\t1.0\n",
      "1\t0\t1\t1.0\n",
      "1\t1\t0\t1.0\n",
      "1\t1\t1\t0.0\n",
      "Logic Function: NOR\n",
      "X1\tX2\tX3\tY\n",
      "0\t0\t0\t1.0\n",
      "0\t0\t1\t0.0\n",
      "0\t1\t0\t0.0\n",
      "0\t1\t1\t0.0\n",
      "1\t0\t0\t0.0\n",
      "1\t0\t1\t0.0\n",
      "1\t1\t0\t0.0\n",
      "1\t1\t1\t0.0\n"
     ]
    }
   ],
   "source": [
    "logicGate = { \"and\": compute(dataset, \"and\", [1, 1, 1], -2),\n",
    "             \"or\": compute(dataset, \"or\", [1, 1, 1], -0.9),\n",
    "             \"nand\": compute(dataset, \"nand\", [-1, -1, -1], 3),\n",
    "             \"nor\": compute(dataset, \"nor\", [-1, -1, -1], 1)}\n",
    "\n",
    "for gate in logicGate:\n",
    "  printOutput(dataset, gate, logicGate[gate])\n",
    "if __name__ == '__main__':\n",
    "   main()"
   ]
  },
  {
   "cell_type": "code",
   "execution_count": 72,
   "id": "851b79d7",
   "metadata": {},
   "outputs": [
    {
     "data": {
      "text/plain": [
       "1"
      ]
     },
     "execution_count": 72,
     "metadata": {},
     "output_type": "execute_result"
    }
   ],
   "source": [
    "import math\n",
    "x1=0\n",
    "x2=0\n",
    "x3=1\n",
    "w1,w2,w3=1,1,1\n",
    "b=-0.9\n",
    "sum= (x1*w1+x2*w2+x3*w3)-b\n",
    "y=round(1/(1+math.exp(-sum)))\n",
    "y"
   ]
  },
  {
   "cell_type": "code",
   "execution_count": null,
   "id": "0b5832c4",
   "metadata": {},
   "outputs": [],
   "source": []
  }
 ],
 "metadata": {
  "kernelspec": {
   "display_name": "Python 3 (ipykernel)",
   "language": "python",
   "name": "python3"
  },
  "language_info": {
   "codemirror_mode": {
    "name": "ipython",
    "version": 3
   },
   "file_extension": ".py",
   "mimetype": "text/x-python",
   "name": "python",
   "nbconvert_exporter": "python",
   "pygments_lexer": "ipython3",
   "version": "3.7.9"
  }
 },
 "nbformat": 4,
 "nbformat_minor": 5
}
