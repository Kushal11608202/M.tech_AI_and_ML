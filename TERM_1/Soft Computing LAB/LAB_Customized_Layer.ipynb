{
 "cells": [
  {
   "cell_type": "markdown",
   "id": "4652d55b",
   "metadata": {},
   "source": [
    "# Creating our own Customized layer "
   ]
  },
  {
   "cell_type": "code",
   "execution_count": 1,
   "id": "fb36b4a1",
   "metadata": {},
   "outputs": [
    {
     "name": "stderr",
     "output_type": "stream",
     "text": [
      "Using TensorFlow backend.\n"
     ]
    }
   ],
   "source": [
    "from keras import backend as K\n",
    "from keras.layers import Layer\n",
    "# Layer is a base class and we will be sub-classing it to crearte a layer.\n",
    "\n",
    "class Kushal(Layer):\n",
    "    \n",
    "    # initializing the layer class.\n",
    "    def __init__(self, output_dim, **kwargs):\n",
    "        self.output_dim = output_dim\n",
    "        super(Kushal, self).__init__(**kwargs) # calls the base init function\n",
    "        \n",
    "    # build is the main method and its purpose is to implement the layer properly.\n",
    "    def build(self, input_shape):\n",
    "        # Below command creates the weight corresponding to input shape and set it in the kernel.\n",
    "        # It is our custom functionality of the layer.\n",
    "        # It creates the weight using ‘normal’ initializer.\n",
    "        self.kernel = self.add_weight(name='kernel', shape=(input_shape[1], self.output_dim), initializer='normal', trainable=True)\n",
    "        super(Kushal, self).build(input_shape) # calls the base build function\n",
    "        \n",
    "    def call(self,input_data):  # input_data is the input data of our customized layer.\n",
    "        return K.dot(input_data, self.kernel) # dot product of input data and our layers kernel.\n",
    "    \n",
    "    def compute_output_shape(self, input_shape):\n",
    "        # computes the output shape using shape of input data and output dimension set while initializing the layer.\n",
    "        return (input_shape[0], self.output_dim)"
   ]
  },
  {
   "cell_type": "markdown",
   "id": "0d455582",
   "metadata": {},
   "source": [
    "# Checking whether our layer named Kushal created or not"
   ]
  },
  {
   "cell_type": "code",
   "execution_count": 2,
   "id": "bcd333a4",
   "metadata": {
    "scrolled": true
   },
   "outputs": [
    {
     "name": "stdout",
     "output_type": "stream",
     "text": [
      "Model: \"sequential_1\"\n",
      "_________________________________________________________________\n",
      "Layer (type)                 Output Shape              Param #   \n",
      "=================================================================\n",
      "kushal_1 (Kushal)            (None, 32)                512       \n",
      "_________________________________________________________________\n",
      "dense_1 (Dense)              (None, 8)                 264       \n",
      "=================================================================\n",
      "Total params: 776\n",
      "Trainable params: 776\n",
      "Non-trainable params: 0\n",
      "_________________________________________________________________\n"
     ]
    }
   ],
   "source": [
    "from keras.models import Sequential \n",
    "from keras.layers import Dense \n",
    "\n",
    "model = Sequential()\n",
    "model.add(Kushal(32, input_shape = (16,))) \n",
    "model.add(Dense(8, activation = 'sigmoid'))\n",
    "model.summary()"
   ]
  },
  {
   "cell_type": "code",
   "execution_count": null,
   "id": "6b545c9a",
   "metadata": {},
   "outputs": [],
   "source": []
  }
 ],
 "metadata": {
  "kernelspec": {
   "display_name": "Python 3 (ipykernel)",
   "language": "python",
   "name": "python3"
  },
  "language_info": {
   "codemirror_mode": {
    "name": "ipython",
    "version": 3
   },
   "file_extension": ".py",
   "mimetype": "text/x-python",
   "name": "python",
   "nbconvert_exporter": "python",
   "pygments_lexer": "ipython3",
   "version": "3.7.9"
  }
 },
 "nbformat": 4,
 "nbformat_minor": 5
}
