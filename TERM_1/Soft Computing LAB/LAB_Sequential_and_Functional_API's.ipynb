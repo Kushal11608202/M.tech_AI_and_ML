{
 "cells": [
  {
   "cell_type": "markdown",
   "id": "1391fa7d",
   "metadata": {},
   "source": [
    "# (1) SEQUENTIAL API (create simple models layer-by-layer)"
   ]
  },
  {
   "cell_type": "code",
   "execution_count": 1,
   "id": "99e5025b",
   "metadata": {},
   "outputs": [
    {
     "name": "stderr",
     "output_type": "stream",
     "text": [
      "Using TensorFlow backend.\n"
     ]
    }
   ],
   "source": [
    "from keras.models import Sequential\n",
    "from keras.layers import Activation,Dense\n",
    "model = Sequential()\n",
    "\n",
    "# Simple ANN\n",
    "\n",
    "input_layer = Dense(32, input_shape=(8,)) # creating input layer for input_data\n",
    "model.add(input_layer)\n",
    "\n",
    "hidden_layer = Dense(64, activation = 'sigmoid') # creating hidden layer for computation\n",
    "model.add(hidden_layer)\n",
    "\n",
    "output_layer = Dense(8) # creating output layer for result\n",
    "model.add(output_layer)"
   ]
  },
  {
   "cell_type": "markdown",
   "id": "9fc28100",
   "metadata": {},
   "source": [
    "# Model accessing using different methods for getting info of model"
   ]
  },
  {
   "cell_type": "code",
   "execution_count": 2,
   "id": "7934bad0",
   "metadata": {},
   "outputs": [
    {
     "data": {
      "text/plain": [
       "[<keras.layers.core.Dense at 0x1a904cfc148>,\n",
       " <keras.layers.core.Dense at 0x1a90c15c308>,\n",
       " <keras.layers.core.Dense at 0x1a90c1ba248>]"
      ]
     },
     "execution_count": 2,
     "metadata": {},
     "output_type": "execute_result"
    }
   ],
   "source": [
    "model.layers # Return all the layers in model\n",
    "# as we have created three layers input,hidden and output layers, we get the info of these three layers"
   ]
  },
  {
   "cell_type": "code",
   "execution_count": 4,
   "id": "6fe53204",
   "metadata": {},
   "outputs": [
    {
     "data": {
      "text/plain": [
       "[<tf.Tensor 'dense_1_input:0' shape=(None, 8) dtype=float32>]"
      ]
     },
     "execution_count": 4,
     "metadata": {},
     "output_type": "execute_result"
    }
   ],
   "source": [
    "model.inputs    # gives input tensors of the model"
   ]
  },
  {
   "cell_type": "code",
   "execution_count": 5,
   "id": "5f454929",
   "metadata": {},
   "outputs": [
    {
     "data": {
      "text/plain": [
       "[<tf.Tensor 'dense_3/BiasAdd:0' shape=(None, 8) dtype=float32>]"
      ]
     },
     "execution_count": 5,
     "metadata": {},
     "output_type": "execute_result"
    }
   ],
   "source": [
    "model.outputs   # gives output tensors of the model"
   ]
  },
  {
   "cell_type": "code",
   "execution_count": 6,
   "id": "ee3b53f1",
   "metadata": {},
   "outputs": [
    {
     "data": {
      "text/plain": [
       "<bound method Network.get_weights of <keras.engine.sequential.Sequential object at 0x000001A904CFC108>>"
      ]
     },
     "execution_count": 6,
     "metadata": {},
     "output_type": "execute_result"
    }
   ],
   "source": [
    "model.get_weights # return all the weights of model"
   ]
  },
  {
   "cell_type": "code",
   "execution_count": 7,
   "id": "2a1776e5",
   "metadata": {},
   "outputs": [],
   "source": [
    "config = model.get_config() # serialize the model into object as well as json and load it again for further development"
   ]
  },
  {
   "cell_type": "code",
   "execution_count": 8,
   "id": "db6de50d",
   "metadata": {},
   "outputs": [],
   "source": [
    "new_model = Sequential.from_config(config) # accept the model configuration object as argument and create the model accordingly"
   ]
  },
  {
   "cell_type": "code",
   "execution_count": 9,
   "id": "f0a604da",
   "metadata": {},
   "outputs": [
    {
     "name": "stdout",
     "output_type": "stream",
     "text": [
      "Model: \"sequential_1\"\n",
      "_________________________________________________________________\n",
      "Layer (type)                 Output Shape              Param #   \n",
      "=================================================================\n",
      "dense_1 (Dense)              (None, 32)                288       \n",
      "_________________________________________________________________\n",
      "dense_2 (Dense)              (None, 64)                2112      \n",
      "_________________________________________________________________\n",
      "dense_3 (Dense)              (None, 8)                 520       \n",
      "=================================================================\n",
      "Total params: 2,920\n",
      "Trainable params: 2,920\n",
      "Non-trainable params: 0\n",
      "_________________________________________________________________\n"
     ]
    }
   ],
   "source": [
    "model.summary() # gives the information about model and its layers"
   ]
  },
  {
   "cell_type": "markdown",
   "id": "3e58e04a",
   "metadata": {},
   "source": [
    "# (2) FUNCTIONAL API (create complex models)"
   ]
  },
  {
   "cell_type": "code",
   "execution_count": 10,
   "id": "160b2f8e",
   "metadata": {},
   "outputs": [
    {
     "name": "stdout",
     "output_type": "stream",
     "text": [
      "Model: \"model_1\"\n",
      "_________________________________________________________________\n",
      "Layer (type)                 Output Shape              Param #   \n",
      "=================================================================\n",
      "input_1 (InputLayer)         (None, 2, 3)              0         \n",
      "_________________________________________________________________\n",
      "dense_4 (Dense)              (None, 2, 2)              8         \n",
      "=================================================================\n",
      "Total params: 8\n",
      "Trainable params: 8\n",
      "Non-trainable params: 0\n",
      "_________________________________________________________________\n"
     ]
    }
   ],
   "source": [
    "from keras.models import Model\n",
    "from keras.layers import Input,Dense\n",
    "\n",
    "data = Input(shape=(2,3)) # creating an input layer specifying input dimension shape for the model\n",
    "layer = Dense(2)(data)    # Adding Dense layer for the input\n",
    "model = Model(inputs = data, outputs = layer) # Creating a model in functional way by specifying both input and output layers\n",
    "model.summary()"
   ]
  },
  {
   "cell_type": "code",
   "execution_count": null,
   "id": "e833d04e",
   "metadata": {},
   "outputs": [],
   "source": []
  }
 ],
 "metadata": {
  "kernelspec": {
   "display_name": "Python 3 (ipykernel)",
   "language": "python",
   "name": "python3"
  },
  "language_info": {
   "codemirror_mode": {
    "name": "ipython",
    "version": 3
   },
   "file_extension": ".py",
   "mimetype": "text/x-python",
   "name": "python",
   "nbconvert_exporter": "python",
   "pygments_lexer": "ipython3",
   "version": "3.7.9"
  }
 },
 "nbformat": 4,
 "nbformat_minor": 5
}
