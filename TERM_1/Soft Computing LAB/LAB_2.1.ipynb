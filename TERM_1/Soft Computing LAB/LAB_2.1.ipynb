{
 "cells": [
  {
   "cell_type": "code",
   "execution_count": 1,
   "id": "bc07df23",
   "metadata": {},
   "outputs": [
    {
     "name": "stdout",
     "output_type": "stream",
     "text": [
      "Matrix Form of x [Input] : \n",
      " [[0 0]\n",
      " [0 1]\n",
      " [1 0]\n",
      " [1 1]] \n",
      "Shape of x:  (4, 2)\n",
      "Matrix Form of y [Actual Output]: \n",
      " [[0]\n",
      " [0]\n",
      " [0]\n",
      " [1]] \n",
      "Shape of y : (4, 1)\n"
     ]
    }
   ],
   "source": [
    "# Libraries\n",
    "import tensorflow as tf\n",
    "from tensorflow import keras\n",
    "from tensorflow.keras import layers\n",
    "import numpy as np\n",
    "import matplotlib.pyplot as plt\n",
    "\n",
    "x = tf.constant([[0,0],[0,1],[1,0],[1,1]])\n",
    "print(\"Matrix Form of x [Input] : \\n\",x.numpy(),end=' ') # Input\n",
    "print(\"\\nShape of x: \",x.shape)\n",
    "\n",
    "y = tf.constant([[0],[0],[0],[1]])\n",
    "print(\"Matrix Form of y [Actual Output]: \\n\",y.numpy(),end=' ') # Actual Output\n",
    "print(\"\\nShape of y :\",y.shape)\n",
    "\n",
    "def perceptron(x):\n",
    "    return np.where(x<=0,0,1)"
   ]
  },
  {
   "cell_type": "code",
   "execution_count": 2,
   "id": "0b3d3311",
   "metadata": {},
   "outputs": [
    {
     "name": "stdout",
     "output_type": "stream",
     "text": [
      "Model: \"sequential\"\n",
      "_________________________________________________________________\n",
      "Layer (type)                 Output Shape              Param #   \n",
      "=================================================================\n",
      "dense (Dense)                (None, 1)                 3         \n",
      "=================================================================\n",
      "Total params: 3\n",
      "Trainable params: 3\n",
      "Non-trainable params: 0\n",
      "_________________________________________________________________\n"
     ]
    }
   ],
   "source": [
    "model = keras.Sequential()                                       # Importing Sequential Model in model\n",
    "model.add(layers.Dense(1,activation='linear',input_shape=(2,)))  # Creating the first layer in the model\n",
    "model.summary()                                                  # Summarizing the info of the model"
   ]
  },
  {
   "cell_type": "code",
   "execution_count": 3,
   "id": "07eabc22",
   "metadata": {},
   "outputs": [
    {
     "name": "stdout",
     "output_type": "stream",
     "text": [
      "[<tf.Variable 'dense/kernel:0' shape=(2, 1) dtype=float32, numpy=\n",
      "array([[0.7064189],\n",
      "       [1.2080225]], dtype=float32)>, <tf.Variable 'dense/bias:0' shape=(1,) dtype=float32, numpy=array([0.], dtype=float32)>]\n",
      "Predicted Output : \n",
      " [[0]\n",
      " [1]\n",
      " [1]\n",
      " [1]]\n"
     ]
    }
   ],
   "source": [
    "print(model.weights)               # weights taken by the Kernel of the Sequential Model (RANDOM)\n",
    "out = perceptron(model(x))         # getting the output from perceptron function taking the input 'x'\n",
    "print(\"Predicted Output : \\n\",out) # Predicted Output"
   ]
  },
  {
   "cell_type": "code",
   "execution_count": 4,
   "id": "28240bcf",
   "metadata": {},
   "outputs": [
    {
     "name": "stdout",
     "output_type": "stream",
     "text": [
      "Train on 3 samples, validate on 1 samples\n",
      "Epoch 1/30\n",
      "3/3 [==============================] - 0s 162ms/sample - loss: 0.6528 - val_loss: 0.8307\n",
      "Epoch 2/30\n",
      "3/3 [==============================] - 0s 4ms/sample - loss: 0.6502 - val_loss: 0.8253\n",
      "Epoch 3/30\n",
      "3/3 [==============================] - 0s 3ms/sample - loss: 0.6477 - val_loss: 0.8198\n",
      "Epoch 4/30\n",
      "3/3 [==============================] - 0s 3ms/sample - loss: 0.6452 - val_loss: 0.8144\n",
      "Epoch 5/30\n",
      "3/3 [==============================] - 0s 3ms/sample - loss: 0.6426 - val_loss: 0.8090\n",
      "Epoch 6/30\n",
      "3/3 [==============================] - 0s 3ms/sample - loss: 0.6401 - val_loss: 0.8036\n",
      "Epoch 7/30\n",
      "3/3 [==============================] - 0s 3ms/sample - loss: 0.6376 - val_loss: 0.7983\n",
      "Epoch 8/30\n",
      "3/3 [==============================] - 0s 3ms/sample - loss: 0.6351 - val_loss: 0.7929\n",
      "Epoch 9/30\n",
      "3/3 [==============================] - 0s 3ms/sample - loss: 0.6326 - val_loss: 0.7876\n",
      "Epoch 10/30\n",
      "3/3 [==============================] - 0s 3ms/sample - loss: 0.6301 - val_loss: 0.7823\n",
      "Epoch 11/30\n",
      "3/3 [==============================] - 0s 5ms/sample - loss: 0.6276 - val_loss: 0.7770\n",
      "Epoch 12/30\n",
      "3/3 [==============================] - 0s 3ms/sample - loss: 0.6251 - val_loss: 0.7717\n",
      "Epoch 13/30\n",
      "3/3 [==============================] - 0s 3ms/sample - loss: 0.6226 - val_loss: 0.7665\n",
      "Epoch 14/30\n",
      "3/3 [==============================] - 0s 3ms/sample - loss: 0.6201 - val_loss: 0.7613\n",
      "Epoch 15/30\n",
      "3/3 [==============================] - 0s 3ms/sample - loss: 0.6177 - val_loss: 0.7561\n",
      "Epoch 16/30\n",
      "3/3 [==============================] - 0s 3ms/sample - loss: 0.6152 - val_loss: 0.7509\n",
      "Epoch 17/30\n",
      "3/3 [==============================] - 0s 9ms/sample - loss: 0.6128 - val_loss: 0.7457\n",
      "Epoch 18/30\n",
      "3/3 [==============================] - 0s 5ms/sample - loss: 0.6103 - val_loss: 0.7406\n",
      "Epoch 19/30\n",
      "3/3 [==============================] - 0s 5ms/sample - loss: 0.6079 - val_loss: 0.7355\n",
      "Epoch 20/30\n",
      "3/3 [==============================] - 0s 5ms/sample - loss: 0.6055 - val_loss: 0.7304\n",
      "Epoch 21/30\n",
      "3/3 [==============================] - 0s 6ms/sample - loss: 0.6031 - val_loss: 0.7253\n",
      "Epoch 22/30\n",
      "3/3 [==============================] - 0s 5ms/sample - loss: 0.6007 - val_loss: 0.7202\n",
      "Epoch 23/30\n",
      "3/3 [==============================] - 0s 6ms/sample - loss: 0.5983 - val_loss: 0.7152\n",
      "Epoch 24/30\n",
      "3/3 [==============================] - 0s 6ms/sample - loss: 0.5959 - val_loss: 0.7102\n",
      "Epoch 25/30\n",
      "3/3 [==============================] - 0s 4ms/sample - loss: 0.5935 - val_loss: 0.7052\n",
      "Epoch 26/30\n",
      "3/3 [==============================] - 0s 7ms/sample - loss: 0.5911 - val_loss: 0.7002\n",
      "Epoch 27/30\n",
      "3/3 [==============================] - 0s 3ms/sample - loss: 0.5887 - val_loss: 0.6953\n",
      "Epoch 28/30\n",
      "3/3 [==============================] - 0s 3ms/sample - loss: 0.5864 - val_loss: 0.6904\n",
      "Epoch 29/30\n",
      "3/3 [==============================] - 0s 4ms/sample - loss: 0.5840 - val_loss: 0.6855\n",
      "Epoch 30/30\n",
      "3/3 [==============================] - 0s 4ms/sample - loss: 0.5817 - val_loss: 0.6806\n",
      "[[0]\n",
      " [1]\n",
      " [1]\n",
      " [1]]\n"
     ]
    }
   ],
   "source": [
    "model.compile(optimizer='adam',loss='mse')                            # Compiling the Model\n",
    "model.fit(x,y,epochs=30,verbose=1,validation_split=0.2,batch_size=10) # Fitting the Model(epochs: no. of times model is trained)\n",
    "\n",
    "pred = model.predict(x)\n",
    "out = perceptron(pred)\n",
    "print(out)"
   ]
  },
  {
   "cell_type": "code",
   "execution_count": 5,
   "id": "9e685f19",
   "metadata": {},
   "outputs": [
    {
     "name": "stdout",
     "output_type": "stream",
     "text": [
      "[<tf.Variable 'dense/kernel:0' shape=(2, 1) dtype=float32, numpy=\n",
      "array([[0.6766393],\n",
      "       [1.1781489]], dtype=float32)>, <tf.Variable 'dense/bias:0' shape=(1,) dtype=float32, numpy=array([-0.02979729], dtype=float32)>]\n"
     ]
    }
   ],
   "source": [
    "print(model.weights)"
   ]
  },
  {
   "cell_type": "code",
   "execution_count": 6,
   "id": "2ae72b15",
   "metadata": {},
   "outputs": [
    {
     "name": "stdout",
     "output_type": "stream",
     "text": [
      "2.5\n"
     ]
    }
   ],
   "source": [
    "class Model(object):\n",
    "    def __init__(self):         # constructor\n",
    "        self.w=tf.Variable(5.0) # want to update weights\n",
    "        self.b=tf.Variable(0.0) # want to update bias\n",
    "    def __call__(self,x):\n",
    "        return self.w*x+self.b  # Y = W*X+b\n",
    "model = Model()\n",
    "y = model(.5)\n",
    "print(y.numpy())\n",
    "# array is mutable and tensor is immutable"
   ]
  },
  {
   "cell_type": "code",
   "execution_count": 7,
   "id": "1e9b419b",
   "metadata": {},
   "outputs": [],
   "source": [
    "# Mean Seuqre Error\n",
    "def loss(y_pred,y_actual):\n",
    "    return tf.reduce_mean(tf.square(y_pred-y_actual))"
   ]
  },
  {
   "cell_type": "code",
   "execution_count": 8,
   "id": "309329a1",
   "metadata": {},
   "outputs": [
    {
     "name": "stdout",
     "output_type": "stream",
     "text": [
      "Shape of x [input] :  (1000,) \n",
      "\n"
     ]
    },
    {
     "data": {
      "image/png": "[encoded data removed]",
      "text/plain": [
       "<Figure size 432x288 with 1 Axes>"
      ]
     },
     "metadata": {
      "needs_background": "light"
     },
     "output_type": "display_data"
    },
    {
     "name": "stdout",
     "output_type": "stream",
     "text": [
      "\n",
      "current loss is : 8.271033\n"
     ]
    }
   ],
   "source": [
    "# Data\n",
    "num_samples = 1000\n",
    "\n",
    "x = tf.random.normal(shape=[num_samples])     # random 1000 samples\n",
    "noise = tf.random.normal(shape=[num_samples]) # noise in data random\n",
    "\n",
    "print(\"Shape of x [input] : \",x.shape,\"\\n\")\n",
    "\n",
    "true_w = 3\n",
    "true_b = 2\n",
    "\n",
    "y_actual = true_w*x + true_b + noise\n",
    "\n",
    "# scatter plot using matplotlib for the model visualization\n",
    "plt.scatter(x,y_actual,c='r')\n",
    "plt.scatter(x,model(x),c='b')\n",
    "plt.show()\n",
    "\n",
    "print('\\ncurrent loss is :',loss(y_actual,model(x)).numpy())"
   ]
  },
  {
   "cell_type": "code",
   "execution_count": null,
   "id": "b6a1eacd",
   "metadata": {},
   "outputs": [],
   "source": []
  }
 ],
 "metadata": {
  "kernelspec": {
   "display_name": "Python 3 (ipykernel)",
   "language": "python",
   "name": "python3"
  },
  "language_info": {
   "codemirror_mode": {
    "name": "ipython",
    "version": 3
   },
   "file_extension": ".py",
   "mimetype": "text/x-python",
   "name": "python",
   "nbconvert_exporter": "python",
   "pygments_lexer": "ipython3",
   "version": "3.7.9"
  }
 },
 "nbformat": 4,
 "nbformat_minor": 5
}
