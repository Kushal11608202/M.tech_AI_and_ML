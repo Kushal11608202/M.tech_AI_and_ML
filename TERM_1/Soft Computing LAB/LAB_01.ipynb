{
 "cells": [
  {
   "cell_type": "code",
   "execution_count": 1,
   "id": "93724169",
   "metadata": {},
   "outputs": [
    {
     "name": "stderr",
     "output_type": "stream",
     "text": [
      "Using TensorFlow backend.\n"
     ]
    },
    {
     "data": {
      "text/plain": [
       "(None, 16)"
      ]
     },
     "execution_count": 1,
     "metadata": {},
     "output_type": "execute_result"
    }
   ],
   "source": [
    "from keras.models import Sequential\n",
    "from keras.layers import Activation, Dense\n",
    "model = Sequential()\n",
    "layer_1 = Dense(16, input_shape = (8,))\n",
    "model.add(layer_1)\n",
    "layer_1.input_shape\n",
    "(None, 8)\n",
    "layer_1.output_shape"
   ]
  },
  {
   "cell_type": "code",
   "execution_count": 1,
   "id": "90fc9079",
   "metadata": {},
   "outputs": [
    {
     "name": "stdout",
     "output_type": "stream",
     "text": [
      "[0.86653507 0.889162   0.36566337 0.24125096 0.6617463  0.77874772\n",
      " 0.45306179 0.01052379 0.22845103 0.23352043]\n"
     ]
    }
   ],
   "source": [
    "#input, single neoron\n",
    "import numpy as np\n",
    "x=np.random.random((10))\n",
    "print(x)"
   ]
  },
  {
   "cell_type": "code",
   "execution_count": null,
   "id": "a5567b29",
   "metadata": {},
   "outputs": [],
   "source": [
    "w=np.random.random((10))\n",
    "b=np.random.random((1))\n",
    "# z=w*x+b\n",
    "netinput=np.dot(w,x)+b\n",
    "print(netinput)"
   ]
  },
  {
   "cell_type": "code",
   "execution_count": null,
   "id": "82d4f2c7",
   "metadata": {},
   "outputs": [],
   "source": [
    "def threshold(x):\n",
    "    if x<=0:\n",
    "        return 0\n",
    "    else:\n",
    "        return 1\n",
    "    y_threshold=threshold(netinput)\n",
    "    print('output Threshold neuron = %.2f'%(y_threshold))"
   ]
  },
  {
   "cell_type": "code",
   "execution_count": null,
   "id": "2427c0c4",
   "metadata": {},
   "outputs": [],
   "source": [
    "def sigmoid(x):\n",
    "    return 1/(1+np.exp(-x))\n",
    "y_sig=sigmoid(netinput)\n",
    "print('output Sigmoid neuron = %.2f'%(y_sig))"
   ]
  },
  {
   "cell_type": "code",
   "execution_count": null,
   "id": "838c3537",
   "metadata": {},
   "outputs": [],
   "source": [
    "def relu(x):\n",
    "    return np.max([0,x])\n",
    "y_relu=relu(netinput)\n",
    "print('output relu neuron = %.2f'%(y_relu))"
   ]
  },
  {
   "cell_type": "code",
   "execution_count": null,
   "id": "cfbebd54",
   "metadata": {},
   "outputs": [],
   "source": [
    "def Bipolar(x):\n",
    "    if x>=0:\n",
    "        return 1\n",
    "    else:\n",
    "        return -1\n",
    "y_bipolar=Bipolar(netinput)\n",
    "print('output bipolar neuron = %.2f'%(y_bipolar))"
   ]
  },
  {
   "cell_type": "code",
   "execution_count": null,
   "id": "f763a66d",
   "metadata": {},
   "outputs": [],
   "source": [
    "def linear(x):\n",
    "    return x\n",
    "y_lin=linear(netinput)\n",
    "print('output linear neuron = %.2f'%(y_lin))"
   ]
  },
  {
   "cell_type": "code",
   "execution_count": 2,
   "id": "4c95d929",
   "metadata": {
    "scrolled": true
   },
   "outputs": [
    {
     "name": "stderr",
     "output_type": "stream",
     "text": [
      "Using TensorFlow backend.\n"
     ]
    },
    {
     "name": "stdout",
     "output_type": "stream",
     "text": [
      "Model: \"sequential\"\n",
      "_________________________________________________________________\n",
      "Layer (type)                 Output Shape              Param #   \n",
      "=================================================================\n",
      "dense (Dense)                multiple                  15        \n",
      "=================================================================\n",
      "Total params: 15\n",
      "Trainable params: 15\n",
      "Non-trainable params: 0\n",
      "_________________________________________________________________\n"
     ]
    },
    {
     "data": {
      "image/png": "[encoded data removed]",
      "text/plain": [
       "<IPython.core.display.Image object>"
      ]
     },
     "execution_count": 2,
     "metadata": {},
     "output_type": "execute_result"
    }
   ],
   "source": [
    "import tensorflow as tf\n",
    "from tensorflow import keras\n",
    "from tensorflow.keras import layers\n",
    "from keras.utils.vis_utils import plot_model\n",
    "model=keras.Sequential([layers.Dense(3,activation='sigmoid')])\n",
    "x=tf.ones((10,4))\n",
    "y=model(x)\n",
    "model.summary()\n",
    "keras.utils.plot_model(model, to_file='model_plot.png', show_shapes=True, show_layer_names=True)"
   ]
  },
  {
   "cell_type": "code",
   "execution_count": 3,
   "id": "2525ebcf",
   "metadata": {},
   "outputs": [
    {
     "name": "stdout",
     "output_type": "stream",
     "text": [
      "[[1. 1. 1. 1.]\n",
      " [1. 1. 1. 1.]\n",
      " [1. 1. 1. 1.]\n",
      " [1. 1. 1. 1.]\n",
      " [1. 1. 1. 1.]\n",
      " [1. 1. 1. 1.]\n",
      " [1. 1. 1. 1.]\n",
      " [1. 1. 1. 1.]\n",
      " [1. 1. 1. 1.]\n",
      " [1. 1. 1. 1.]]\n",
      "[[0.9186379  0.52963036 0.25804445]\n",
      " [0.9186379  0.52963036 0.25804445]\n",
      " [0.9186379  0.52963036 0.25804445]\n",
      " [0.9186379  0.52963036 0.25804445]\n",
      " [0.9186379  0.52963036 0.25804445]\n",
      " [0.9186379  0.52963036 0.25804445]\n",
      " [0.9186379  0.52963036 0.25804445]\n",
      " [0.9186379  0.52963036 0.25804445]\n",
      " [0.9186379  0.52963036 0.25804445]\n",
      " [0.9186379  0.52963036 0.25804445]]\n"
     ]
    }
   ],
   "source": [
    "print(x.numpy())\n",
    "print(y.numpy())"
   ]
  },
  {
   "cell_type": "code",
   "execution_count": 5,
   "id": "3aa9c3e7",
   "metadata": {},
   "outputs": [
    {
     "name": "stdout",
     "output_type": "stream",
     "text": [
      "[<tf.Variable 'sequential/dense/kernel:0' shape=(4, 3) dtype=float32, numpy=\n",
      "array([[ 0.20773351, -0.73697686,  0.08437335],\n",
      "       [ 0.72262037,  0.7789366 , -0.7675239 ],\n",
      "       [ 0.6550673 , -0.53643876, -0.6140797 ],\n",
      "       [ 0.8385612 ,  0.6131394 ,  0.24107277]], dtype=float32)>, <tf.Variable 'sequential/dense/bias:0' shape=(3,) dtype=float32, numpy=array([0., 0., 0.], dtype=float32)>]\n"
     ]
    }
   ],
   "source": [
    "print(model.weights)"
   ]
  },
  {
   "cell_type": "code",
   "execution_count": 6,
   "id": "29728c55",
   "metadata": {},
   "outputs": [
    {
     "name": "stdout",
     "output_type": "stream",
     "text": [
      "[[ 0.20773351 -0.73697686  0.08437335]\n",
      " [ 0.72262037  0.7789366  -0.7675239 ]\n",
      " [ 0.6550673  -0.53643876 -0.6140797 ]\n",
      " [ 0.8385612   0.6131394   0.24107277]]\n",
      "(4, 3)\n",
      "[0. 0. 0.]\n",
      "(3,)\n"
     ]
    }
   ],
   "source": [
    "print(model.weights[0].numpy())\n",
    "print(model.weights[0].shape)\n",
    "print(model.weights[1].numpy())\n",
    "print(model.weights[1].shape)"
   ]
  },
  {
   "cell_type": "code",
   "execution_count": 1,
   "id": "d5344d6d",
   "metadata": {},
   "outputs": [
    {
     "name": "stdout",
     "output_type": "stream",
     "text": [
      "Model: \"sequential\"\n",
      "_________________________________________________________________\n",
      "Layer (type)                 Output Shape              Param #   \n",
      "=================================================================\n",
      "dense (Dense)                multiple                  15        \n",
      "_________________________________________________________________\n",
      "dense_1 (Dense)              multiple                  16        \n",
      "_________________________________________________________________\n",
      "dense_2 (Dense)              multiple                  25        \n",
      "_________________________________________________________________\n",
      "dense_3 (Dense)              multiple                  12        \n",
      "=================================================================\n",
      "Total params: 68\n",
      "Trainable params: 68\n",
      "Non-trainable params: 0\n",
      "_________________________________________________________________\n"
     ]
    },
    {
     "data": {
      "image/png": "[encoded data removed]",
      "text/plain": [
       "<IPython.core.display.Image object>"
      ]
     },
     "execution_count": 1,
     "metadata": {},
     "output_type": "execute_result"
    }
   ],
   "source": [
    "import tensorflow as tf\n",
    "from tensorflow import keras\n",
    "from tensorflow.keras import layers\n",
    "model=keras.Sequential(\n",
    "[layers.Dense(3,activation='sigmoid'),\n",
    "layers.Dense(4,activation='relu'),\n",
    "layers.Dense(5,activation='tanh'),\n",
    "layers.Dense(2,activation='softmax')\n",
    "]\n",
    ")\n",
    "# y=(10,2). w[0]=(4,3),w[1]=(3,),w[2]=(3x4),w[3]=(4,),w[4]=(4x5),w[5]=(5,)\n",
    "#,w[6]=(5,2),w[7]=(2,)\n",
    "# TPtal number of parameter=15+16+25+12=68\n",
    "x=tf.ones((10,4))\n",
    "y=model(x)\n",
    "model.summary()\n",
    "keras.utils.plot_model(model,'abc.png',show_shapes=True)"
   ]
  },
  {
   "cell_type": "code",
   "execution_count": 2,
   "id": "3d382555",
   "metadata": {},
   "outputs": [
    {
     "name": "stdout",
     "output_type": "stream",
     "text": [
      "(10, 2)\n",
      "ERROR! Session/line number was not unique in database. History logging moved to new session 36\n"
     ]
    }
   ],
   "source": [
    "print(y.shape)"
   ]
  },
  {
   "cell_type": "code",
   "execution_count": null,
   "id": "f3f0f4dc",
   "metadata": {},
   "outputs": [],
   "source": []
  }
 ],
 "metadata": {
  "kernelspec": {
   "display_name": "Python 3 (ipykernel)",
   "language": "python",
   "name": "python3"
  },
  "language_info": {
   "codemirror_mode": {
    "name": "ipython",
    "version": 3
   },
   "file_extension": ".py",
   "mimetype": "text/x-python",
   "name": "python",
   "nbconvert_exporter": "python",
   "pygments_lexer": "ipython3",
   "version": "3.7.9"
  }
 },
 "nbformat": 4,
 "nbformat_minor": 5
}
