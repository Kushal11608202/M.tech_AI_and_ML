{
 "cells": [
  {
   "cell_type": "markdown",
   "metadata": {},
   "source": [
    "# House Price Prediction\n",
    "\n",
    "June 12, 2018\n",
    "\n",
    "*Karan Dua*\n",
    "\n",
    "The main aim of this project is to predict the house prices in King Country, Seattle (USA). We have the KC Sales Dataset available [here](https://www.kaggle.com/harlfoxem/housesalesprediction/data)"
   ]
  },
  {
   "cell_type": "markdown",
   "metadata": {},
   "source": [
    "### About Dataset:\n",
    "\n",
    "This dataset contains house sale prices for King County, which includes Seattle. It includes homes sold between May 2014 and May 2015.\n",
    "\n",
    "![House](data:image/jpeg;base64,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)"
   ]
  },
  {
   "cell_type": "markdown",
   "metadata": {},
   "source": [
    "### Imports"
   ]
  },
  {
   "cell_type": "code",
   "execution_count": 1,
   "metadata": {},
   "outputs": [],
   "source": [
    "import numpy as np\n",
    "import pandas as pd\n",
    "import matplotlib.pyplot as plt\n",
    "import seaborn as sns"
   ]
  },
  {
   "cell_type": "markdown",
   "metadata": {},
   "source": [
    "### Importing the dataset"
   ]
  },
  {
   "cell_type": "code",
   "execution_count": 2,
   "metadata": {},
   "outputs": [],
   "source": [
    "df = pd.read_csv('kc_house_data.csv')"
   ]
  },
  {
   "cell_type": "markdown",
   "metadata": {},
   "source": [
    "We'll take a look at first 5 rows of our dataset by using the head function."
   ]
  },
  {
   "cell_type": "code",
   "execution_count": 3,
   "metadata": {},
   "outputs": [
    {
     "data": {
      "text/html": [
       "<div>\n",
       "<style scoped>\n",
       "    .dataframe tbody tr th:only-of-type {\n",
       "        vertical-align: middle;\n",
       "    }\n",
       "\n",
       "    .dataframe tbody tr th {\n",
       "        vertical-align: top;\n",
       "    }\n",
       "\n",
       "    .dataframe thead th {\n",
       "        text-align: right;\n",
       "    }\n",
       "</style>\n",
       "<table border=\"1\" class=\"dataframe\">\n",
       "  <thead>\n",
       "    <tr style=\"text-align: right;\">\n",
       "      <th></th>\n",
       "      <th>id</th>\n",
       "      <th>date</th>\n",
       "      <th>price</th>\n",
       "      <th>bedrooms</th>\n",
       "      <th>bathrooms</th>\n",
       "      <th>sqft_living</th>\n",
       "      <th>sqft_lot</th>\n",
       "      <th>floors</th>\n",
       "      <th>waterfront</th>\n",
       "      <th>view</th>\n",
       "      <th>...</th>\n",
       "      <th>grade</th>\n",
       "      <th>sqft_above</th>\n",
       "      <th>sqft_basement</th>\n",
       "      <th>yr_built</th>\n",
       "      <th>yr_renovated</th>\n",
       "      <th>zipcode</th>\n",
       "      <th>lat</th>\n",
       "      <th>long</th>\n",
       "      <th>sqft_living15</th>\n",
       "      <th>sqft_lot15</th>\n",
       "    </tr>\n",
       "  </thead>\n",
       "  <tbody>\n",
       "    <tr>\n",
       "      <th>0</th>\n",
       "      <td>7129300520</td>\n",
       "      <td>20141013T000000</td>\n",
       "      <td>221900.0</td>\n",
       "      <td>3</td>\n",
       "      <td>1.00</td>\n",
       "      <td>1180</td>\n",
       "      <td>5650</td>\n",
       "      <td>1.0</td>\n",
       "      <td>0</td>\n",
       "      <td>0</td>\n",
       "      <td>...</td>\n",
       "      <td>7</td>\n",
       "      <td>1180</td>\n",
       "      <td>0</td>\n",
       "      <td>1955</td>\n",
       "      <td>0</td>\n",
       "      <td>98178</td>\n",
       "      <td>47.5112</td>\n",
       "      <td>-122.257</td>\n",
       "      <td>1340</td>\n",
       "      <td>5650</td>\n",
       "    </tr>\n",
       "    <tr>\n",
       "      <th>1</th>\n",
       "      <td>6414100192</td>\n",
       "      <td>20141209T000000</td>\n",
       "      <td>538000.0</td>\n",
       "      <td>3</td>\n",
       "      <td>2.25</td>\n",
       "      <td>2570</td>\n",
       "      <td>7242</td>\n",
       "      <td>2.0</td>\n",
       "      <td>0</td>\n",
       "      <td>0</td>\n",
       "      <td>...</td>\n",
       "      <td>7</td>\n",
       "      <td>2170</td>\n",
       "      <td>400</td>\n",
       "      <td>1951</td>\n",
       "      <td>1991</td>\n",
       "      <td>98125</td>\n",
       "      <td>47.7210</td>\n",
       "      <td>-122.319</td>\n",
       "      <td>1690</td>\n",
       "      <td>7639</td>\n",
       "    </tr>\n",
       "    <tr>\n",
       "      <th>2</th>\n",
       "      <td>5631500400</td>\n",
       "      <td>20150225T000000</td>\n",
       "      <td>180000.0</td>\n",
       "      <td>2</td>\n",
       "      <td>1.00</td>\n",
       "      <td>770</td>\n",
       "      <td>10000</td>\n",
       "      <td>1.0</td>\n",
       "      <td>0</td>\n",
       "      <td>0</td>\n",
       "      <td>...</td>\n",
       "      <td>6</td>\n",
       "      <td>770</td>\n",
       "      <td>0</td>\n",
       "      <td>1933</td>\n",
       "      <td>0</td>\n",
       "      <td>98028</td>\n",
       "      <td>47.7379</td>\n",
       "      <td>-122.233</td>\n",
       "      <td>2720</td>\n",
       "      <td>8062</td>\n",
       "    </tr>\n",
       "    <tr>\n",
       "      <th>3</th>\n",
       "      <td>2487200875</td>\n",
       "      <td>20141209T000000</td>\n",
       "      <td>604000.0</td>\n",
       "      <td>4</td>\n",
       "      <td>3.00</td>\n",
       "      <td>1960</td>\n",
       "      <td>5000</td>\n",
       "      <td>1.0</td>\n",
       "      <td>0</td>\n",
       "      <td>0</td>\n",
       "      <td>...</td>\n",
       "      <td>7</td>\n",
       "      <td>1050</td>\n",
       "      <td>910</td>\n",
       "      <td>1965</td>\n",
       "      <td>0</td>\n",
       "      <td>98136</td>\n",
       "      <td>47.5208</td>\n",
       "      <td>-122.393</td>\n",
       "      <td>1360</td>\n",
       "      <td>5000</td>\n",
       "    </tr>\n",
       "    <tr>\n",
       "      <th>4</th>\n",
       "      <td>1954400510</td>\n",
       "      <td>20150218T000000</td>\n",
       "      <td>510000.0</td>\n",
       "      <td>3</td>\n",
       "      <td>2.00</td>\n",
       "      <td>1680</td>\n",
       "      <td>8080</td>\n",
       "      <td>1.0</td>\n",
       "      <td>0</td>\n",
       "      <td>0</td>\n",
       "      <td>...</td>\n",
       "      <td>8</td>\n",
       "      <td>1680</td>\n",
       "      <td>0</td>\n",
       "      <td>1987</td>\n",
       "      <td>0</td>\n",
       "      <td>98074</td>\n",
       "      <td>47.6168</td>\n",
       "      <td>-122.045</td>\n",
       "      <td>1800</td>\n",
       "      <td>7503</td>\n",
       "    </tr>\n",
       "  </tbody>\n",
       "</table>\n",
       "<p>5 rows × 21 columns</p>\n",
       "</div>"
      ],
      "text/plain": [
       "           id             date     price  bedrooms  bathrooms  sqft_living  \\\n",
       "0  7129300520  20141013T000000  221900.0         3       1.00         1180   \n",
       "1  6414100192  20141209T000000  538000.0         3       2.25         2570   \n",
       "2  5631500400  20150225T000000  180000.0         2       1.00          770   \n",
       "3  2487200875  20141209T000000  604000.0         4       3.00         1960   \n",
       "4  1954400510  20150218T000000  510000.0         3       2.00         1680   \n",
       "\n",
       "   sqft_lot  floors  waterfront  view     ...      grade  sqft_above  \\\n",
       "0      5650     1.0           0     0     ...          7        1180   \n",
       "1      7242     2.0           0     0     ...          7        2170   \n",
       "2     10000     1.0           0     0     ...          6         770   \n",
       "3      5000     1.0           0     0     ...          7        1050   \n",
       "4      8080     1.0           0     0     ...          8        1680   \n",
       "\n",
       "   sqft_basement  yr_built  yr_renovated  zipcode      lat     long  \\\n",
       "0              0      1955             0    98178  47.5112 -122.257   \n",
       "1            400      1951          1991    98125  47.7210 -122.319   \n",
       "2              0      1933             0    98028  47.7379 -122.233   \n",
       "3            910      1965             0    98136  47.5208 -122.393   \n",
       "4              0      1987             0    98074  47.6168 -122.045   \n",
       "\n",
       "   sqft_living15  sqft_lot15  \n",
       "0           1340        5650  \n",
       "1           1690        7639  \n",
       "2           2720        8062  \n",
       "3           1360        5000  \n",
       "4           1800        7503  \n",
       "\n",
       "[5 rows x 21 columns]"
      ]
     },
     "execution_count": 3,
     "metadata": {},
     "output_type": "execute_result"
    }
   ],
   "source": [
    "df.head()"
   ]
  },
  {
   "cell_type": "markdown",
   "metadata": {},
   "source": [
    "Shape of Our dataset."
   ]
  },
  {
   "cell_type": "code",
   "execution_count": 4,
   "metadata": {},
   "outputs": [
    {
     "data": {
      "text/plain": [
       "(21613, 21)"
      ]
     },
     "execution_count": 4,
     "metadata": {},
     "output_type": "execute_result"
    }
   ],
   "source": [
    "df.shape"
   ]
  },
  {
   "cell_type": "markdown",
   "metadata": {},
   "source": [
    "Size of our dataset."
   ]
  },
  {
   "cell_type": "code",
   "execution_count": 5,
   "metadata": {},
   "outputs": [
    {
     "data": {
      "text/plain": [
       "453873"
      ]
     },
     "execution_count": 5,
     "metadata": {},
     "output_type": "execute_result"
    }
   ],
   "source": [
    "df.size"
   ]
  },
  {
   "cell_type": "markdown",
   "metadata": {},
   "source": [
    "A statistical description of our dataset."
   ]
  },
  {
   "cell_type": "code",
   "execution_count": 6,
   "metadata": {},
   "outputs": [
    {
     "data": {
      "text/html": [
       "<div>\n",
       "<style scoped>\n",
       "    .dataframe tbody tr th:only-of-type {\n",
       "        vertical-align: middle;\n",
       "    }\n",
       "\n",
       "    .dataframe tbody tr th {\n",
       "        vertical-align: top;\n",
       "    }\n",
       "\n",
       "    .dataframe thead th {\n",
       "        text-align: right;\n",
       "    }\n",
       "</style>\n",
       "<table border=\"1\" class=\"dataframe\">\n",
       "  <thead>\n",
       "    <tr style=\"text-align: right;\">\n",
       "      <th></th>\n",
       "      <th>id</th>\n",
       "      <th>price</th>\n",
       "      <th>bedrooms</th>\n",
       "      <th>bathrooms</th>\n",
       "      <th>sqft_living</th>\n",
       "      <th>sqft_lot</th>\n",
       "      <th>floors</th>\n",
       "      <th>waterfront</th>\n",
       "      <th>view</th>\n",
       "      <th>condition</th>\n",
       "      <th>grade</th>\n",
       "      <th>sqft_above</th>\n",
       "      <th>sqft_basement</th>\n",
       "      <th>yr_built</th>\n",
       "      <th>yr_renovated</th>\n",
       "      <th>zipcode</th>\n",
       "      <th>lat</th>\n",
       "      <th>long</th>\n",
       "      <th>sqft_living15</th>\n",
       "      <th>sqft_lot15</th>\n",
       "    </tr>\n",
       "  </thead>\n",
       "  <tbody>\n",
       "    <tr>\n",
       "      <th>count</th>\n",
       "      <td>2.161300e+04</td>\n",
       "      <td>2.161300e+04</td>\n",
       "      <td>21613.000000</td>\n",
       "      <td>21613.000000</td>\n",
       "      <td>21613.000000</td>\n",
       "      <td>2.161300e+04</td>\n",
       "      <td>21613.000000</td>\n",
       "      <td>21613.000000</td>\n",
       "      <td>21613.000000</td>\n",
       "      <td>21613.000000</td>\n",
       "      <td>21613.000000</td>\n",
       "      <td>21613.000000</td>\n",
       "      <td>21613.000000</td>\n",
       "      <td>21613.000000</td>\n",
       "      <td>21613.000000</td>\n",
       "      <td>21613.000000</td>\n",
       "      <td>21613.000000</td>\n",
       "      <td>21613.000000</td>\n",
       "      <td>21613.000000</td>\n",
       "      <td>21613.000000</td>\n",
       "    </tr>\n",
       "    <tr>\n",
       "      <th>mean</th>\n",
       "      <td>4.580302e+09</td>\n",
       "      <td>5.400881e+05</td>\n",
       "      <td>3.370842</td>\n",
       "      <td>2.114757</td>\n",
       "      <td>2079.899736</td>\n",
       "      <td>1.510697e+04</td>\n",
       "      <td>1.494309</td>\n",
       "      <td>0.007542</td>\n",
       "      <td>0.234303</td>\n",
       "      <td>3.409430</td>\n",
       "      <td>7.656873</td>\n",
       "      <td>1788.390691</td>\n",
       "      <td>291.509045</td>\n",
       "      <td>1971.005136</td>\n",
       "      <td>84.402258</td>\n",
       "      <td>98077.939805</td>\n",
       "      <td>47.560053</td>\n",
       "      <td>-122.213896</td>\n",
       "      <td>1986.552492</td>\n",
       "      <td>12768.455652</td>\n",
       "    </tr>\n",
       "    <tr>\n",
       "      <th>std</th>\n",
       "      <td>2.876566e+09</td>\n",
       "      <td>3.671272e+05</td>\n",
       "      <td>0.930062</td>\n",
       "      <td>0.770163</td>\n",
       "      <td>918.440897</td>\n",
       "      <td>4.142051e+04</td>\n",
       "      <td>0.539989</td>\n",
       "      <td>0.086517</td>\n",
       "      <td>0.766318</td>\n",
       "      <td>0.650743</td>\n",
       "      <td>1.175459</td>\n",
       "      <td>828.090978</td>\n",
       "      <td>442.575043</td>\n",
       "      <td>29.373411</td>\n",
       "      <td>401.679240</td>\n",
       "      <td>53.505026</td>\n",
       "      <td>0.138564</td>\n",
       "      <td>0.140828</td>\n",
       "      <td>685.391304</td>\n",
       "      <td>27304.179631</td>\n",
       "    </tr>\n",
       "    <tr>\n",
       "      <th>min</th>\n",
       "      <td>1.000102e+06</td>\n",
       "      <td>7.500000e+04</td>\n",
       "      <td>0.000000</td>\n",
       "      <td>0.000000</td>\n",
       "      <td>290.000000</td>\n",
       "      <td>5.200000e+02</td>\n",
       "      <td>1.000000</td>\n",
       "      <td>0.000000</td>\n",
       "      <td>0.000000</td>\n",
       "      <td>1.000000</td>\n",
       "      <td>1.000000</td>\n",
       "      <td>290.000000</td>\n",
       "      <td>0.000000</td>\n",
       "      <td>1900.000000</td>\n",
       "      <td>0.000000</td>\n",
       "      <td>98001.000000</td>\n",
       "      <td>47.155900</td>\n",
       "      <td>-122.519000</td>\n",
       "      <td>399.000000</td>\n",
       "      <td>651.000000</td>\n",
       "    </tr>\n",
       "    <tr>\n",
       "      <th>25%</th>\n",
       "      <td>2.123049e+09</td>\n",
       "      <td>3.219500e+05</td>\n",
       "      <td>3.000000</td>\n",
       "      <td>1.750000</td>\n",
       "      <td>1427.000000</td>\n",
       "      <td>5.040000e+03</td>\n",
       "      <td>1.000000</td>\n",
       "      <td>0.000000</td>\n",
       "      <td>0.000000</td>\n",
       "      <td>3.000000</td>\n",
       "      <td>7.000000</td>\n",
       "      <td>1190.000000</td>\n",
       "      <td>0.000000</td>\n",
       "      <td>1951.000000</td>\n",
       "      <td>0.000000</td>\n",
       "      <td>98033.000000</td>\n",
       "      <td>47.471000</td>\n",
       "      <td>-122.328000</td>\n",
       "      <td>1490.000000</td>\n",
       "      <td>5100.000000</td>\n",
       "    </tr>\n",
       "    <tr>\n",
       "      <th>50%</th>\n",
       "      <td>3.904930e+09</td>\n",
       "      <td>4.500000e+05</td>\n",
       "      <td>3.000000</td>\n",
       "      <td>2.250000</td>\n",
       "      <td>1910.000000</td>\n",
       "      <td>7.618000e+03</td>\n",
       "      <td>1.500000</td>\n",
       "      <td>0.000000</td>\n",
       "      <td>0.000000</td>\n",
       "      <td>3.000000</td>\n",
       "      <td>7.000000</td>\n",
       "      <td>1560.000000</td>\n",
       "      <td>0.000000</td>\n",
       "      <td>1975.000000</td>\n",
       "      <td>0.000000</td>\n",
       "      <td>98065.000000</td>\n",
       "      <td>47.571800</td>\n",
       "      <td>-122.230000</td>\n",
       "      <td>1840.000000</td>\n",
       "      <td>7620.000000</td>\n",
       "    </tr>\n",
       "    <tr>\n",
       "      <th>75%</th>\n",
       "      <td>7.308900e+09</td>\n",
       "      <td>6.450000e+05</td>\n",
       "      <td>4.000000</td>\n",
       "      <td>2.500000</td>\n",
       "      <td>2550.000000</td>\n",
       "      <td>1.068800e+04</td>\n",
       "      <td>2.000000</td>\n",
       "      <td>0.000000</td>\n",
       "      <td>0.000000</td>\n",
       "      <td>4.000000</td>\n",
       "      <td>8.000000</td>\n",
       "      <td>2210.000000</td>\n",
       "      <td>560.000000</td>\n",
       "      <td>1997.000000</td>\n",
       "      <td>0.000000</td>\n",
       "      <td>98118.000000</td>\n",
       "      <td>47.678000</td>\n",
       "      <td>-122.125000</td>\n",
       "      <td>2360.000000</td>\n",
       "      <td>10083.000000</td>\n",
       "    </tr>\n",
       "    <tr>\n",
       "      <th>max</th>\n",
       "      <td>9.900000e+09</td>\n",
       "      <td>7.700000e+06</td>\n",
       "      <td>33.000000</td>\n",
       "      <td>8.000000</td>\n",
       "      <td>13540.000000</td>\n",
       "      <td>1.651359e+06</td>\n",
       "      <td>3.500000</td>\n",
       "      <td>1.000000</td>\n",
       "      <td>4.000000</td>\n",
       "      <td>5.000000</td>\n",
       "      <td>13.000000</td>\n",
       "      <td>9410.000000</td>\n",
       "      <td>4820.000000</td>\n",
       "      <td>2015.000000</td>\n",
       "      <td>2015.000000</td>\n",
       "      <td>98199.000000</td>\n",
       "      <td>47.777600</td>\n",
       "      <td>-121.315000</td>\n",
       "      <td>6210.000000</td>\n",
       "      <td>871200.000000</td>\n",
       "    </tr>\n",
       "  </tbody>\n",
       "</table>\n",
       "</div>"
      ],
      "text/plain": [
       "                 id         price      bedrooms     bathrooms   sqft_living  \\\n",
       "count  2.161300e+04  2.161300e+04  21613.000000  21613.000000  21613.000000   \n",
       "mean   4.580302e+09  5.400881e+05      3.370842      2.114757   2079.899736   \n",
       "std    2.876566e+09  3.671272e+05      0.930062      0.770163    918.440897   \n",
       "min    1.000102e+06  7.500000e+04      0.000000      0.000000    290.000000   \n",
       "25%    2.123049e+09  3.219500e+05      3.000000      1.750000   1427.000000   \n",
       "50%    3.904930e+09  4.500000e+05      3.000000      2.250000   1910.000000   \n",
       "75%    7.308900e+09  6.450000e+05      4.000000      2.500000   2550.000000   \n",
       "max    9.900000e+09  7.700000e+06     33.000000      8.000000  13540.000000   \n",
       "\n",
       "           sqft_lot        floors    waterfront          view     condition  \\\n",
       "count  2.161300e+04  21613.000000  21613.000000  21613.000000  21613.000000   \n",
       "mean   1.510697e+04      1.494309      0.007542      0.234303      3.409430   \n",
       "std    4.142051e+04      0.539989      0.086517      0.766318      0.650743   \n",
       "min    5.200000e+02      1.000000      0.000000      0.000000      1.000000   \n",
       "25%    5.040000e+03      1.000000      0.000000      0.000000      3.000000   \n",
       "50%    7.618000e+03      1.500000      0.000000      0.000000      3.000000   \n",
       "75%    1.068800e+04      2.000000      0.000000      0.000000      4.000000   \n",
       "max    1.651359e+06      3.500000      1.000000      4.000000      5.000000   \n",
       "\n",
       "              grade    sqft_above  sqft_basement      yr_built  yr_renovated  \\\n",
       "count  21613.000000  21613.000000   21613.000000  21613.000000  21613.000000   \n",
       "mean       7.656873   1788.390691     291.509045   1971.005136     84.402258   \n",
       "std        1.175459    828.090978     442.575043     29.373411    401.679240   \n",
       "min        1.000000    290.000000       0.000000   1900.000000      0.000000   \n",
       "25%        7.000000   1190.000000       0.000000   1951.000000      0.000000   \n",
       "50%        7.000000   1560.000000       0.000000   1975.000000      0.000000   \n",
       "75%        8.000000   2210.000000     560.000000   1997.000000      0.000000   \n",
       "max       13.000000   9410.000000    4820.000000   2015.000000   2015.000000   \n",
       "\n",
       "            zipcode           lat          long  sqft_living15     sqft_lot15  \n",
       "count  21613.000000  21613.000000  21613.000000   21613.000000   21613.000000  \n",
       "mean   98077.939805     47.560053   -122.213896    1986.552492   12768.455652  \n",
       "std       53.505026      0.138564      0.140828     685.391304   27304.179631  \n",
       "min    98001.000000     47.155900   -122.519000     399.000000     651.000000  \n",
       "25%    98033.000000     47.471000   -122.328000    1490.000000    5100.000000  \n",
       "50%    98065.000000     47.571800   -122.230000    1840.000000    7620.000000  \n",
       "75%    98118.000000     47.678000   -122.125000    2360.000000   10083.000000  \n",
       "max    98199.000000     47.777600   -121.315000    6210.000000  871200.000000  "
      ]
     },
     "execution_count": 6,
     "metadata": {},
     "output_type": "execute_result"
    }
   ],
   "source": [
    "df.describe()"
   ]
  },
  {
   "cell_type": "markdown",
   "metadata": {},
   "source": [
    "Info about attributes of the dataset."
   ]
  },
  {
   "cell_type": "code",
   "execution_count": 7,
   "metadata": {},
   "outputs": [
    {
     "name": "stdout",
     "output_type": "stream",
     "text": [
      "<class 'pandas.core.frame.DataFrame'>\n",
      "RangeIndex: 21613 entries, 0 to 21612\n",
      "Data columns (total 21 columns):\n",
      "id               21613 non-null int64\n",
      "date             21613 non-null object\n",
      "price            21613 non-null float64\n",
      "bedrooms         21613 non-null int64\n",
      "bathrooms        21613 non-null float64\n",
      "sqft_living      21613 non-null int64\n",
      "sqft_lot         21613 non-null int64\n",
      "floors           21613 non-null float64\n",
      "waterfront       21613 non-null int64\n",
      "view             21613 non-null int64\n",
      "condition        21613 non-null int64\n",
      "grade            21613 non-null int64\n",
      "sqft_above       21613 non-null int64\n",
      "sqft_basement    21613 non-null int64\n",
      "yr_built         21613 non-null int64\n",
      "yr_renovated     21613 non-null int64\n",
      "zipcode          21613 non-null int64\n",
      "lat              21613 non-null float64\n",
      "long             21613 non-null float64\n",
      "sqft_living15    21613 non-null int64\n",
      "sqft_lot15       21613 non-null int64\n",
      "dtypes: float64(5), int64(15), object(1)\n",
      "memory usage: 3.5+ MB\n"
     ]
    }
   ],
   "source": [
    "df.info()"
   ]
  },
  {
   "cell_type": "markdown",
   "metadata": {},
   "source": [
    "Checking sum of null-values(if any) in each column"
   ]
  },
  {
   "cell_type": "code",
   "execution_count": 8,
   "metadata": {},
   "outputs": [
    {
     "data": {
      "text/plain": [
       "id               0\n",
       "date             0\n",
       "price            0\n",
       "bedrooms         0\n",
       "bathrooms        0\n",
       "sqft_living      0\n",
       "sqft_lot         0\n",
       "floors           0\n",
       "waterfront       0\n",
       "view             0\n",
       "condition        0\n",
       "grade            0\n",
       "sqft_above       0\n",
       "sqft_basement    0\n",
       "yr_built         0\n",
       "yr_renovated     0\n",
       "zipcode          0\n",
       "lat              0\n",
       "long             0\n",
       "sqft_living15    0\n",
       "sqft_lot15       0\n",
       "dtype: int64"
      ]
     },
     "execution_count": 8,
     "metadata": {},
     "output_type": "execute_result"
    }
   ],
   "source": [
    "df.isnull().sum()"
   ]
  },
  {
   "cell_type": "markdown",
   "metadata": {},
   "source": [
    "Bravo! Luckily there are no null values in our dataset."
   ]
  },
  {
   "cell_type": "code",
   "execution_count": 9,
   "metadata": {},
   "outputs": [
    {
     "data": {
      "text/plain": [
       "<matplotlib.axes._subplots.AxesSubplot at 0xffc4d68>"
      ]
     },
     "execution_count": 9,
     "metadata": {},
     "output_type": "execute_result"
    },
    {
     "data": {
      "image/png": "[encoded data removed]",
      "text/plain": [
       "<Figure size 720x432 with 1 Axes>"
      ]
     },
     "metadata": {},
     "output_type": "display_data"
    }
   ],
   "source": [
    "sns.set_style('darkgrid')\n",
    "plt.figure(figsize=(10,6))\n",
    "sns.countplot(x='bedrooms', data=df, palette='viridis')"
   ]
  },
  {
   "cell_type": "code",
   "execution_count": 10,
   "metadata": {},
   "outputs": [
    {
     "data": {
      "text/plain": [
       "(98001, 98199)"
      ]
     },
     "execution_count": 10,
     "metadata": {},
     "output_type": "execute_result"
    },
    {
     "data": {
      "image/png": "[encoded data removed]",
      "text/plain": [
       "<Figure size 720x432 with 1 Axes>"
      ]
     },
     "metadata": {},
     "output_type": "display_data"
    }
   ],
   "source": [
    "sns.set_style('darkgrid')\n",
    "plt.figure(figsize=(10,6))\n",
    "sns.regplot(df['zipcode'], df['price'], x_jitter=0.4, scatter_kws={'alpha':0.3}, fit_reg=False)\n",
    "plt.xlim(df['zipcode'].min(), df['zipcode'].max())"
   ]
  },
  {
   "cell_type": "code",
   "execution_count": 11,
   "metadata": {},
   "outputs": [
    {
     "data": {
      "text/plain": [
       "<seaborn.axisgrid.FacetGrid at 0x100938d0>"
      ]
     },
     "execution_count": 11,
     "metadata": {},
     "output_type": "execute_result"
    },
    {
     "data": {
      "image/png": "[encoded data removed]",
      "text/plain": [
       "<Figure size 917x216 with 1 Axes>"
      ]
     },
     "metadata": {},
     "output_type": "display_data"
    }
   ],
   "source": [
    "sns.set_style('darkgrid')\n",
    "fig = sns.FacetGrid(df, hue='waterfront', aspect=4)\n",
    "fig.map(sns.kdeplot, 'price', shade=True)\n",
    "oldest = df['price'].max()\n",
    "fig.set(xlim=(0,oldest))\n",
    "fig.set(title='Distribution of Price Grouped by waterfront')\n",
    "fig.add_legend()"
   ]
  },
  {
   "cell_type": "code",
   "execution_count": 12,
   "metadata": {},
   "outputs": [
    {
     "data": {
      "text/plain": [
       "<matplotlib.axes._subplots.AxesSubplot at 0x10204c50>"
      ]
     },
     "execution_count": 12,
     "metadata": {},
     "output_type": "execute_result"
    },
    {
     "data": {
      "image/png": "[encoded data removed]",
      "text/plain": [
       "<Figure size 432x288 with 1 Axes>"
      ]
     },
     "metadata": {},
     "output_type": "display_data"
    }
   ],
   "source": [
    "df.floors.value_counts().plot(kind='bar')"
   ]
  },
  {
   "cell_type": "code",
   "execution_count": 13,
   "metadata": {},
   "outputs": [
    {
     "data": {
      "text/plain": [
       "<seaborn.axisgrid.FacetGrid at 0x10c874a8>"
      ]
     },
     "execution_count": 13,
     "metadata": {},
     "output_type": "execute_result"
    },
    {
     "data": {
      "image/png": "[encoded data removed]",
      "text/plain": [
       "<Figure size 913.875x216 with 1 Axes>"
      ]
     },
     "metadata": {},
     "output_type": "display_data"
    }
   ],
   "source": [
    "sns.set_style('darkgrid')\n",
    "fig = sns.FacetGrid(df, hue='floors', aspect=4)\n",
    "fig.map(sns.kdeplot, 'price', shade=True)\n",
    "oldest = df['price'].max()\n",
    "fig.set(xlim=(0,oldest))\n",
    "fig.set(title='Distribution of Price Grouped by number of floors')\n",
    "fig.add_legend()"
   ]
  },
  {
   "cell_type": "code",
   "execution_count": 14,
   "metadata": {},
   "outputs": [
    {
     "data": {
      "text/plain": [
       "Text(0.5,1,'Count on condition of buildings(rated 1-5)')"
      ]
     },
     "execution_count": 14,
     "metadata": {},
     "output_type": "execute_result"
    },
    {
     "data": {
      "image/png": "[encoded data removed]",
      "text/plain": [
       "<Figure size 432x288 with 1 Axes>"
      ]
     },
     "metadata": {},
     "output_type": "display_data"
    }
   ],
   "source": [
    "df.condition.value_counts().plot(kind='bar')\n",
    "plt.title('Count on condition of buildings(rated 1-5)')"
   ]
  },
  {
   "cell_type": "code",
   "execution_count": 15,
   "metadata": {},
   "outputs": [
    {
     "data": {
      "text/plain": [
       "Text(0.5,1,'Area in sqft. (Living + Basement Area)')"
      ]
     },
     "execution_count": 15,
     "metadata": {},
     "output_type": "execute_result"
    },
    {
     "data": {
      "image/png": "[encoded data removed]",
      "text/plain": [
       "<Figure size 432x288 with 1 Axes>"
      ]
     },
     "metadata": {},
     "output_type": "display_data"
    }
   ],
   "source": [
    "sns.regplot((df['sqft_living'] + df['sqft_basement']), df['price'], fit_reg=False)\n",
    "plt.title('Area in sqft. (Living + Basement Area)')"
   ]
  },
  {
   "cell_type": "code",
   "execution_count": 16,
   "metadata": {},
   "outputs": [
    {
     "data": {
      "text/plain": [
       "<matplotlib.axes._subplots.AxesSubplot at 0x102ce160>"
      ]
     },
     "execution_count": 16,
     "metadata": {},
     "output_type": "execute_result"
    },
    {
     "data": {
      "image/png": "[encoded data removed]",
      "text/plain": [
       "<Figure size 432x288 with 1 Axes>"
      ]
     },
     "metadata": {},
     "output_type": "display_data"
    }
   ],
   "source": [
    "sns.boxplot(x='waterfront', y='price', data=df)"
   ]
  },
  {
   "cell_type": "markdown",
   "metadata": {},
   "source": [
    "## Training a Linear Regression Model\n",
    "\n",
    "Let's now begin to train out regression model! We will need to first split up our data into an X array that contains the features to train on, and a y array with the target variable, in this case the Price column. We will toss out the Address column because it only has text info that the linear regression model can't use.\n",
    "\n",
    "### X and y arrays"
   ]
  },
  {
   "cell_type": "code",
   "execution_count": 17,
   "metadata": {},
   "outputs": [],
   "source": [
    "X = df.drop(['id', 'date', 'price'], axis=1)\n",
    "y = df['price']"
   ]
  },
  {
   "cell_type": "markdown",
   "metadata": {},
   "source": [
    "## Train Test Split\n",
    "\n",
    "Now let's split the data into a training set and a testing set. We will train out model on the training set and then use the test set to evaluate the model."
   ]
  },
  {
   "cell_type": "code",
   "execution_count": 18,
   "metadata": {},
   "outputs": [],
   "source": [
    "from sklearn.model_selection import train_test_split"
   ]
  },
  {
   "cell_type": "code",
   "execution_count": 19,
   "metadata": {},
   "outputs": [],
   "source": [
    "X_train, X_test, y_train, y_test = train_test_split(X, y, test_size=0.30, random_state=101)"
   ]
  },
  {
   "cell_type": "markdown",
   "metadata": {},
   "source": [
    "## Creating and Training the Model"
   ]
  },
  {
   "cell_type": "code",
   "execution_count": 20,
   "metadata": {},
   "outputs": [],
   "source": [
    "from sklearn.linear_model import LinearRegression"
   ]
  },
  {
   "cell_type": "code",
   "execution_count": 21,
   "metadata": {},
   "outputs": [],
   "source": [
    "lm = LinearRegression()"
   ]
  },
  {
   "cell_type": "code",
   "execution_count": 22,
   "metadata": {},
   "outputs": [
    {
     "data": {
      "text/plain": [
       "LinearRegression(copy_X=True, fit_intercept=True, n_jobs=1, normalize=False)"
      ]
     },
     "execution_count": 22,
     "metadata": {},
     "output_type": "execute_result"
    }
   ],
   "source": [
    "lm.fit(X_train, y_train)"
   ]
  },
  {
   "cell_type": "markdown",
   "metadata": {},
   "source": [
    "## Model Evaluation\n",
    "\n",
    "Let's evaluate the model by checking out it's coefficients and how we can interpret them."
   ]
  },
  {
   "cell_type": "code",
   "execution_count": 23,
   "metadata": {},
   "outputs": [
    {
     "name": "stdout",
     "output_type": "stream",
     "text": [
      "6646990.454992233\n"
     ]
    }
   ],
   "source": [
    "print(lm.intercept_)"
   ]
  },
  {
   "cell_type": "code",
   "execution_count": 24,
   "metadata": {},
   "outputs": [],
   "source": [
    "coeff_df = pd.DataFrame(lm.coef_, X.columns, columns=['Coefficient'])"
   ]
  },
  {
   "cell_type": "code",
   "execution_count": 25,
   "metadata": {},
   "outputs": [
    {
     "data": {
      "text/html": [
       "<div>\n",
       "<style scoped>\n",
       "    .dataframe tbody tr th:only-of-type {\n",
       "        vertical-align: middle;\n",
       "    }\n",
       "\n",
       "    .dataframe tbody tr th {\n",
       "        vertical-align: top;\n",
       "    }\n",
       "\n",
       "    .dataframe thead th {\n",
       "        text-align: right;\n",
       "    }\n",
       "</style>\n",
       "<table border=\"1\" class=\"dataframe\">\n",
       "  <thead>\n",
       "    <tr style=\"text-align: right;\">\n",
       "      <th></th>\n",
       "      <th>Coefficient</th>\n",
       "    </tr>\n",
       "  </thead>\n",
       "  <tbody>\n",
       "    <tr>\n",
       "      <th>bedrooms</th>\n",
       "      <td>-37269.763856</td>\n",
       "    </tr>\n",
       "    <tr>\n",
       "      <th>bathrooms</th>\n",
       "      <td>35937.972138</td>\n",
       "    </tr>\n",
       "    <tr>\n",
       "      <th>sqft_living</th>\n",
       "      <td>110.719980</td>\n",
       "    </tr>\n",
       "    <tr>\n",
       "      <th>sqft_lot</th>\n",
       "      <td>0.145043</td>\n",
       "    </tr>\n",
       "    <tr>\n",
       "      <th>floors</th>\n",
       "      <td>11521.161115</td>\n",
       "    </tr>\n",
       "    <tr>\n",
       "      <th>waterfront</th>\n",
       "      <td>550895.824634</td>\n",
       "    </tr>\n",
       "    <tr>\n",
       "      <th>view</th>\n",
       "      <td>51984.258678</td>\n",
       "    </tr>\n",
       "    <tr>\n",
       "      <th>condition</th>\n",
       "      <td>27986.792802</td>\n",
       "    </tr>\n",
       "    <tr>\n",
       "      <th>grade</th>\n",
       "      <td>96722.563856</td>\n",
       "    </tr>\n",
       "    <tr>\n",
       "      <th>sqft_above</th>\n",
       "      <td>71.259061</td>\n",
       "    </tr>\n",
       "    <tr>\n",
       "      <th>sqft_basement</th>\n",
       "      <td>39.460919</td>\n",
       "    </tr>\n",
       "    <tr>\n",
       "      <th>yr_built</th>\n",
       "      <td>-2625.601665</td>\n",
       "    </tr>\n",
       "    <tr>\n",
       "      <th>yr_renovated</th>\n",
       "      <td>19.159401</td>\n",
       "    </tr>\n",
       "    <tr>\n",
       "      <th>zipcode</th>\n",
       "      <td>-584.166231</td>\n",
       "    </tr>\n",
       "    <tr>\n",
       "      <th>lat</th>\n",
       "      <td>601147.155995</td>\n",
       "    </tr>\n",
       "    <tr>\n",
       "      <th>long</th>\n",
       "      <td>-217154.689092</td>\n",
       "    </tr>\n",
       "    <tr>\n",
       "      <th>sqft_living15</th>\n",
       "      <td>21.949761</td>\n",
       "    </tr>\n",
       "    <tr>\n",
       "      <th>sqft_lot15</th>\n",
       "      <td>-0.354517</td>\n",
       "    </tr>\n",
       "  </tbody>\n",
       "</table>\n",
       "</div>"
      ],
      "text/plain": [
       "                 Coefficient\n",
       "bedrooms       -37269.763856\n",
       "bathrooms       35937.972138\n",
       "sqft_living       110.719980\n",
       "sqft_lot            0.145043\n",
       "floors          11521.161115\n",
       "waterfront     550895.824634\n",
       "view            51984.258678\n",
       "condition       27986.792802\n",
       "grade           96722.563856\n",
       "sqft_above         71.259061\n",
       "sqft_basement      39.460919\n",
       "yr_built        -2625.601665\n",
       "yr_renovated       19.159401\n",
       "zipcode          -584.166231\n",
       "lat            601147.155995\n",
       "long          -217154.689092\n",
       "sqft_living15      21.949761\n",
       "sqft_lot15         -0.354517"
      ]
     },
     "execution_count": 25,
     "metadata": {},
     "output_type": "execute_result"
    }
   ],
   "source": [
    "coeff_df"
   ]
  },
  {
   "cell_type": "markdown",
   "metadata": {},
   "source": [
    "Interpreting the coefficients:\n",
    "\n",
    "Holding all other values fixed, a unit increase in the value of one particular feature, the price of the house increases/decreases with an amount equal to it's coefficient."
   ]
  },
  {
   "cell_type": "markdown",
   "metadata": {},
   "source": [
    "## Predictions from our Model\n",
    "\n",
    "Let's grab predictions off our test set and see how well it did!"
   ]
  },
  {
   "cell_type": "code",
   "execution_count": 26,
   "metadata": {},
   "outputs": [],
   "source": [
    "predictions = lm.predict(X_test)"
   ]
  },
  {
   "cell_type": "code",
   "execution_count": 27,
   "metadata": {},
   "outputs": [
    {
     "data": {
      "text/plain": [
       "<matplotlib.collections.PathCollection at 0x10e51da0>"
      ]
     },
     "execution_count": 27,
     "metadata": {},
     "output_type": "execute_result"
    },
    {
     "data": {
      "image/png": "[encoded data removed]",
      "text/plain": [
       "<Figure size 432x288 with 1 Axes>"
      ]
     },
     "metadata": {},
     "output_type": "display_data"
    }
   ],
   "source": [
    "plt.scatter(y_test, predictions)"
   ]
  },
  {
   "cell_type": "markdown",
   "metadata": {},
   "source": [
    "**Residual Histogram**"
   ]
  },
  {
   "cell_type": "code",
   "execution_count": 28,
   "metadata": {},
   "outputs": [
    {
     "name": "stderr",
     "output_type": "stream",
     "text": [
      "c:\\users\\karan\\appdata\\local\\programs\\python\\python36\\lib\\site-packages\\matplotlib\\axes\\_axes.py:6462: UserWarning: The 'normed' kwarg is deprecated, and has been replaced by the 'density' kwarg.\n",
      "  warnings.warn(\"The 'normed' kwarg is deprecated, and has been \"\n"
     ]
    },
    {
     "data": {
      "text/plain": [
       "<matplotlib.axes._subplots.AxesSubplot at 0x10e91438>"
      ]
     },
     "execution_count": 28,
     "metadata": {},
     "output_type": "execute_result"
    },
    {
     "data": {
      "image/png": "[encoded data removed]",
      "text/plain": [
       "<Figure size 432x288 with 1 Axes>"
      ]
     },
     "metadata": {},
     "output_type": "display_data"
    }
   ],
   "source": [
    "sns.distplot((y_test - predictions), bins=50)"
   ]
  },
  {
   "cell_type": "markdown",
   "metadata": {},
   "source": [
    "## Regression Evaluation Metrics\n",
    "\n",
    "\n",
    "Here are three common evaluation metrics for regression problems:\n",
    "\n",
    "**Mean Absolute Error** (MAE) is the mean of the absolute value of the errors:\n",
    "\n",
    "$$\\frac 1n\\sum_{i=1}^n|y_i-\\hat{y}_i|$$\n",
    "\n",
    "**Mean Squared Error** (MSE) is the mean of the squared errors:\n",
    "\n",
    "$$\\frac 1n\\sum_{i=1}^n(y_i-\\hat{y}_i)^2$$\n",
    "\n",
    "**Root Mean Squared Error** (RMSE) is the square root of the mean of the squared errors:\n",
    "\n",
    "$$\\sqrt{\\frac 1n\\sum_{i=1}^n(y_i-\\hat{y}_i)^2}$$\n",
    "\n",
    "Comparing these metrics:\n",
    "\n",
    "- **MAE** is the easiest to understand, because it's the average error.\n",
    "- **MSE** is more popular than MAE, because MSE \"punishes\" larger errors, which tends to be useful in the real world.\n",
    "- **RMSE** is even more popular than MSE, because RMSE is interpretable in the \"y\" units.\n",
    "\n",
    "All of these are **loss functions**, because we want to minimize them."
   ]
  },
  {
   "cell_type": "code",
   "execution_count": 29,
   "metadata": {},
   "outputs": [],
   "source": [
    "from sklearn import metrics"
   ]
  },
  {
   "cell_type": "code",
   "execution_count": 30,
   "metadata": {},
   "outputs": [
    {
     "name": "stdout",
     "output_type": "stream",
     "text": [
      "MAE: 126021.8524188312\n",
      "MSE: 41043239302.62665\n",
      "RMSE: 202591.31102450236\n"
     ]
    }
   ],
   "source": [
    "print('MAE:', metrics.mean_absolute_error(y_test, predictions))\n",
    "print('MSE:', metrics.mean_squared_error(y_test, predictions))\n",
    "print('RMSE:', np.sqrt(metrics.mean_squared_error(y_test, predictions)))"
   ]
  },
  {
   "cell_type": "code",
   "execution_count": 31,
   "metadata": {},
   "outputs": [
    {
     "data": {
      "text/plain": [
       "0.7074085330779591"
      ]
     },
     "execution_count": 31,
     "metadata": {},
     "output_type": "execute_result"
    }
   ],
   "source": [
    "lm.score(X_test, y_test)"
   ]
  }
 ],
 "metadata": {
  "kernelspec": {
   "display_name": "Python 3",
   "language": "python",
   "name": "python3"
  },
  "language_info": {
   "codemirror_mode": {
    "name": "ipython",
    "version": 3
   },
   "file_extension": ".py",
   "mimetype": "text/x-python",
   "name": "python",
   "nbconvert_exporter": "python",
   "pygments_lexer": "ipython3",
   "version": "3.6.5"
  }
 },
 "nbformat": 4,
 "nbformat_minor": 2
}
